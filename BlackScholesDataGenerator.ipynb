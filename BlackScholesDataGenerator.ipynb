{
 "cells": [
  {
   "cell_type": "markdown",
   "metadata": {},
   "source": [
    "<center><h1><font color=\"orange\">Black Scholes Data Generator:</font></h1></center>"
   ]
  },
  {
   "cell_type": "markdown",
   "metadata": {},
   "source": [
    "<h4>Imports:</h4>"
   ]
  },
  {
   "cell_type": "code",
   "execution_count": 90,
   "metadata": {},
   "outputs": [],
   "source": [
    "import numpy as np\n",
    "from math import exp, log, pi, sqrt\n",
    "from scipy.stats import norm"
   ]
  },
  {
   "cell_type": "code",
   "execution_count": 91,
   "metadata": {},
   "outputs": [],
   "source": [
    "class BlackScholes:\n",
    "    def input_generator(self,num_samples): \n",
    "        '''\n",
    "        Generate random strike/spot, time (in days), rate, volatility (sigma), and dividend data to run \n",
    "        Black-Scholes on for n sampels\n",
    "        '''\n",
    "        #S = np.random.uniform(0.00,100,num_samples) #Random Spot\n",
    "        #KS = np.random.uniform(0.95,1.05,num_samples)  #The ratio of K/S\n",
    "        #K = np.random.uniform(0.00,100,num_samples) #Random Strike -- check this\n",
    "        #T = np.random.uniform(1,10*365,num_samples)   #Time In days\n",
    "        #sigma = np.random.exponential(.10,num_samples)  #Random exponential sigma\n",
    "        #rate = np.random.uniform(-0.2, 0.2, num_samples) # Annualized risk free rate\n",
    "        #dividend = np.random.uniform(0.0, 0.2, num_samples) #dividend yield    \n",
    "        KS = np.random.uniform(0.95, 1.05, num_samples)                      # K/S\n",
    "        T = np.random.uniform(0, 365*10, num_samples)                      # time until expiration in days\n",
    "        rate = np.random.uniform(-0.2, 0.2, num_samples)                   # Annualized risk free rate\n",
    "        sigma = np.random.uniform(0.10, 2.0, num_samples)               \n",
    "        dividend = np.random.uniform(0.0, 0.2, num_samples)                # Dividend yield\n",
    "        X = np.asmatrix([KS,T,sigma,rate,dividend]).transpose()\n",
    "        return X\n",
    "    \n",
    "    def getData(self,num_samples,write=False): \n",
    "        ''' \n",
    "        Get Random inputs X and prices Y\n",
    "        '''\n",
    "        X = self.input_generator(num_samples)\n",
    "        Y = self.generate_prices(X)\n",
    "        X = np.asarray(X)\n",
    "        if write:\n",
    "            with open('data.csv','w') as file:\n",
    "                file.write('K/S,T,sigma,rate,dividend,v\\n') \n",
    "                for i in range(X.shape[0]): \n",
    "                    file.write('{},{},{},{},{},{}\\n'.format(X[i][0], X[i][1], X[i][2], X[i][3],X[i][4], Y[i]))\n",
    "                file.close()\n",
    "        return X,Y\n",
    "    \n",
    "    def generate_prices(self,X): \n",
    "        '''\n",
    "        Vectorization to call the vanilla call price from the input\n",
    "        '''\n",
    "        return np.apply_along_axis(self.vanilla_call_price, axis=1, arr=X)\n",
    "    \n",
    "\n",
    "    def vanilla_call_price(self,X): \n",
    "        '''\n",
    "        Calculate Vanialla Call Price\n",
    "        '''\n",
    "\n",
    "        #Get Parameters from X\n",
    "        KS = X[0,0]\n",
    "        T = X[0,1]\n",
    "        sigma = X[0,2]\n",
    "        r = X[0,3]\n",
    "        d = X[0,4]\n",
    "\n",
    "        #Black Scholes Formula Calculation\n",
    "        edt = exp((-d * T) / 365)\n",
    "        ert = exp((-r * T) / 365)\n",
    "        sigmaTsq = sqrt(T / 365) * sigma\n",
    "        #d1 = (log(edt/(K/S)) + (r + .5 * (sigma ** 2)) * T / 365) / sigmaTsq\n",
    "        d1 = (log(edt/KS) + (r + .5 * (sigma ** 2)) * T / 365) / sigmaTsq\n",
    "        d2 = d1 - sigmaTsq\n",
    "        Nd1 = (1 + ert*(d1 / sqrt(2))) / 2\n",
    "        Nd2 = (1 + ert*(d2 / sqrt(2))) / 2\n",
    "\n",
    "        #v = edt*Nd1 - (K/S) * ert * Nd2\n",
    "        v = edt*Nd1 - KS * ert * Nd2\n",
    "        return v\n",
    "    \n",
    "    #def d_j(self,j, S, K, r, v, T):\n",
    "    #    return (log(S/K) + (r + ((-1)**(j-1))*0.5*v*v)*T)/(v*(T**0.5))\n",
    "    \n",
    "    #def vanilla_call_price(self,X):\n",
    "    #    S = X[0,0]\n",
    "    #    K = X[0,1]\n",
    "    #    T = X[0,2]\n",
    "    #    sigma = X[0,3]\n",
    "    #    r = 0\n",
    "    #    return S * norm.cdf(self.d_j(1, S, K, r, sigma, T)) - \\\n",
    "    #        K*exp(-r*T) * norm.cdf(self.d_j(2, S, K, r, sigma, T))\n",
    "    \n"
   ]
  },
  {
   "cell_type": "code",
   "execution_count": 92,
   "metadata": {},
   "outputs": [],
   "source": [
    "b = BlackScholes()\n",
    "X,Y = b.getData(2000)"
   ]
  }
 ],
 "metadata": {
  "kernelspec": {
   "display_name": "Python 3",
   "language": "python",
   "name": "python3"
  },
  "language_info": {
   "codemirror_mode": {
    "name": "ipython",
    "version": 3
   },
   "file_extension": ".py",
   "mimetype": "text/x-python",
   "name": "python",
   "nbconvert_exporter": "python",
   "pygments_lexer": "ipython3",
   "version": "3.6.5"
  }
 },
 "nbformat": 4,
 "nbformat_minor": 2
}
