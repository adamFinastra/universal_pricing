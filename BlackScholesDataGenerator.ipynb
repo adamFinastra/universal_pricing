{
 "cells": [
  {
   "cell_type": "markdown",
   "metadata": {},
   "source": [
    "<center><h1><font color=\"orange\">Black Scholes Data Generator:</font></h1></center>"
   ]
  },
  {
   "cell_type": "markdown",
   "metadata": {},
   "source": [
    "<h4>Imports:</h4>"
   ]
  },
  {
   "cell_type": "code",
   "execution_count": 1,
   "metadata": {},
   "outputs": [],
   "source": [
    "import numpy as np\n",
    "from math import exp, log, pi, sqrt\n",
    "from scipy.stats import norm"
   ]
  },
  {
   "cell_type": "markdown",
   "metadata": {},
   "source": [
    "<h4>Data Generator:</h4>"
   ]
  },
  {
   "cell_type": "code",
   "execution_count": 124,
   "metadata": {},
   "outputs": [],
   "source": [
    "class BlackScholes:\n",
    "    def input_generator(self,num_samples): \n",
    "        '''\n",
    "        Generate random strike/spot, time (in days), rate, volatility (sigma), and dividend data to run \n",
    "        Black-Scholes on for n sampels\n",
    "        '''\n",
    "        S = np.random.uniform(0.00,500,num_samples) #Random Spot\n",
    "        g = np.random.uniform(0.95,1.05,num_samples)\n",
    "        K = S*g #Generate ranndom strike where we have have K/S between 0.95 and 1.0\n",
    "        #K = np.random.uniform(0.00,110,num_samples) #Random Strike\n",
    "        #KS = np.random.uniform(0.95,1.05,num_samples)  #The ratio of K/S\n",
    "        #K = np.random.uniform(0.00,100,num_samples) #Random Strike -- check this\n",
    "        #T = np.random.uniform(1,10*365,num_samples)   #Time In days\n",
    "        #sigma = np.random.exponential(.10,num_samples)  #Random exponential sigma\n",
    "        #rate = np.random.uniform(-0.2, 0.2, num_samples) # Annualized risk free rate\n",
    "        #dividend = np.random.uniform(0.0, 0.2, num_samples) #dividend yield    \n",
    "        #KS = np.random.uniform(0.95, 1.05, num_samples)                      # K/S\n",
    "        T = np.random.uniform(0, 365*8, num_samples)                      # time until expiration in days\n",
    "        rate = np.random.uniform(-0.2, 0.2, num_samples)                   # Annualized risk free rate\n",
    "        sigma = np.random.uniform(0.10, 2.0, num_samples)               \n",
    "        dividend = np.random.uniform(0.0, 0.2, num_samples)                # Dividend yield\n",
    "        #X = np.asmatrix([KS,T,sigma,rate,dividend]).transpose()\n",
    "        X = np.asmatrix([S,K,T,sigma,rate,dividend]).transpose()\n",
    "        return X\n",
    "    \n",
    "    def getData(self,num_samples,write=False): \n",
    "        ''' \n",
    "        Get Random inputs X and prices Y\n",
    "        '''\n",
    "        X = self.input_generator(num_samples)\n",
    "        Y = self.generate_prices(X)\n",
    "        X = np.asarray(X)\n",
    "        if write:\n",
    "            with open('data.csv','w') as file:\n",
    "                file.write('K/S,T,sigma,rate,dividend,v\\n') \n",
    "                for i in range(X.shape[0]): \n",
    "                    file.write('{},{},{},{},{},{}\\n'.format(X[i][0], X[i][1], X[i][2], X[i][3],X[i][4], Y[i]))\n",
    "                file.close()\n",
    "        return X,Y\n",
    "    \n",
    "    def generate_prices(self,X): \n",
    "        '''\n",
    "        Vectorization to call the vanilla call price from the input\n",
    "        '''\n",
    "        return np.apply_along_axis(self.vanilla_call_price, axis=1, arr=X)\n",
    "    \n",
    "\n",
    "    def vanilla_call_price(self,X): \n",
    "        '''\n",
    "        Calculate Vanialla Call Price\n",
    "        '''\n",
    "\n",
    "        #Get Parameters from X\n",
    "        S = X[0,0]\n",
    "        K = X[0,1]\n",
    "        T = X[0,2]\n",
    "        sigma = X[0,3]\n",
    "        r = X[0,4]\n",
    "        d = X[0,5]\n",
    "        \n",
    "\n",
    "        #Black Scholes Formula Calculation\n",
    "        #edt = exp((-d * T) / 365)\n",
    "        #ert = exp((-r * T) / 365)\n",
    "        #sigmaTsq = sqrt(T / 365) * sigma\n",
    "        #d1 = (log(edt/(K/S)) + (r + .5 * (sigma ** 2)) * T / 365) / sigmaTsq\n",
    "        #d1 = (log(edt/KS) + (r + .5 * (sigma ** 2)) * T / 365) / sigmaTsq\n",
    "        #d2 = d1 - sigmaTsq\n",
    "        #Nd1 = (1 + ert*(d1 / sqrt(2))) / 2\n",
    "        #Nd2 = (1 + ert*(d2 / sqrt(2))) / 2\n",
    "\n",
    "        #v = edt*Nd1 - (K/S) * ert * Nd2\n",
    "        #v = edt*Nd1 - KS * ert * Nd2\n",
    "        d1 = (log(float(S)/K)+((r-d)+sigma*sigma/2.)*T/365)/(sigma*sqrt(T))\n",
    "        d2 = d1-sigma*sqrt(T)\n",
    "        return S*exp(-d*T/365)*norm.cdf(d1)-K*exp(-r*T/365)*norm.cdf(d2)\n",
    "        \n",
    "        \n",
    "        \n",
    "        #return v\n",
    "    \n",
    "    #def d_j(self,j, S, K, r, v, T):\n",
    "    #    return (log(S/K) + (r + ((-1)**(j-1))*0.5*v*v)*T)/(v*(T**0.5))\n",
    "    \n",
    "    #def vanilla_call_price(self,X):\n",
    "    #    S = X[0,0]\n",
    "    #    K = X[0,1]\n",
    "    #    T = X[0,2]\n",
    "    #    sigma = X[0,3]\n",
    "    #    r = 0\n",
    "    #    return S * norm.cdf(self.d_j(1, S, K, r, sigma, T)) - \\\n",
    "    #        K*exp(-r*T) * norm.cdf(self.d_j(2, S, K, r, sigma, T))\n",
    "    \n"
   ]
  },
  {
   "cell_type": "code",
   "execution_count": 125,
   "metadata": {},
   "outputs": [],
   "source": [
    "b = BlackScholes()\n",
    "X,Y = b.getData(20000)"
   ]
  },
  {
   "cell_type": "code",
   "execution_count": 127,
   "metadata": {},
   "outputs": [],
   "source": [
    "testX,testY = BlackScholes().getData(5000)"
   ]
  },
  {
   "cell_type": "markdown",
   "metadata": {},
   "source": [
    "<h4>Models:</h4>"
   ]
  },
  {
   "cell_type": "code",
   "execution_count": 128,
   "metadata": {},
   "outputs": [],
   "source": [
    "from keras.models import Sequential\n",
    "from keras.layers import Dense"
   ]
  },
  {
   "cell_type": "code",
   "execution_count": 129,
   "metadata": {},
   "outputs": [],
   "source": [
    "model = Sequential()\n",
    "model.add(Dense(64,input_dim=X.shape[1],activation='tanh'))\n",
    "#model.add(Dense(32, activation='tanh'))\n",
    "#model.add(Dense(8,activation='tanh'))\n",
    "model.add(Dense(1,activation='linear'))\n",
    "model.compile(optimizer='adam',loss='mse',metrics=['mse'])"
   ]
  },
  {
   "cell_type": "code",
   "execution_count": 131,
   "metadata": {},
   "outputs": [
    {
     "name": "stdout",
     "output_type": "stream",
     "text": [
      "Epoch 1/100\n",
      "20000/20000 [==============================] - 0s 23us/step - loss: 929.8000 - mean_squared_error: 929.8000\n",
      "Epoch 2/100\n",
      "20000/20000 [==============================] - 0s 22us/step - loss: 891.6509 - mean_squared_error: 891.6509\n",
      "Epoch 3/100\n",
      "20000/20000 [==============================] - 0s 22us/step - loss: 858.4084 - mean_squared_error: 858.4084\n",
      "Epoch 4/100\n",
      "20000/20000 [==============================] - 0s 22us/step - loss: 818.8868 - mean_squared_error: 818.8868\n",
      "Epoch 5/100\n",
      "20000/20000 [==============================] - 0s 23us/step - loss: 806.6795 - mean_squared_error: 806.6795\n",
      "Epoch 6/100\n",
      "20000/20000 [==============================] - 0s 22us/step - loss: 759.2286 - mean_squared_error: 759.2286\n",
      "Epoch 7/100\n",
      "20000/20000 [==============================] - 0s 22us/step - loss: 723.8397 - mean_squared_error: 723.8397\n",
      "Epoch 8/100\n",
      "20000/20000 [==============================] - 0s 23us/step - loss: 691.4145 - mean_squared_error: 691.4145\n",
      "Epoch 9/100\n",
      "20000/20000 [==============================] - 0s 22us/step - loss: 679.9284 - mean_squared_error: 679.9284\n",
      "Epoch 10/100\n",
      "20000/20000 [==============================] - 0s 23us/step - loss: 641.1554 - mean_squared_error: 641.1554\n",
      "Epoch 11/100\n",
      "20000/20000 [==============================] - 0s 23us/step - loss: 607.1555 - mean_squared_error: 607.1555\n",
      "Epoch 12/100\n",
      "20000/20000 [==============================] - 0s 22us/step - loss: 637.4763 - mean_squared_error: 637.4763\n",
      "Epoch 13/100\n",
      "20000/20000 [==============================] - 0s 23us/step - loss: 591.0226 - mean_squared_error: 591.0226\n",
      "Epoch 14/100\n",
      "20000/20000 [==============================] - 0s 22us/step - loss: 565.7581 - mean_squared_error: 565.7581\n",
      "Epoch 15/100\n",
      "20000/20000 [==============================] - 0s 22us/step - loss: 531.0200 - mean_squared_error: 531.0200\n",
      "Epoch 16/100\n",
      "20000/20000 [==============================] - 0s 23us/step - loss: 536.5981 - mean_squared_error: 536.5981\n",
      "Epoch 17/100\n",
      "20000/20000 [==============================] - 0s 23us/step - loss: 516.2305 - mean_squared_error: 516.2305\n",
      "Epoch 18/100\n",
      "20000/20000 [==============================] - 0s 23us/step - loss: 540.5290 - mean_squared_error: 540.5290\n",
      "Epoch 19/100\n",
      "20000/20000 [==============================] - 0s 23us/step - loss: 509.8898 - mean_squared_error: 509.8898\n",
      "Epoch 20/100\n",
      "20000/20000 [==============================] - 0s 23us/step - loss: 509.3231 - mean_squared_error: 509.3231\n",
      "Epoch 21/100\n",
      "20000/20000 [==============================] - 0s 23us/step - loss: 513.3930 - mean_squared_error: 513.3930\n",
      "Epoch 22/100\n",
      "20000/20000 [==============================] - 0s 23us/step - loss: 488.9769 - mean_squared_error: 488.9769\n",
      "Epoch 23/100\n",
      "20000/20000 [==============================] - 0s 23us/step - loss: 461.0771 - mean_squared_error: 461.0771\n",
      "Epoch 24/100\n",
      "20000/20000 [==============================] - 0s 23us/step - loss: 514.7097 - mean_squared_error: 514.7097\n",
      "Epoch 25/100\n",
      "20000/20000 [==============================] - 0s 23us/step - loss: 480.8706 - mean_squared_error: 480.8706\n",
      "Epoch 26/100\n",
      "20000/20000 [==============================] - 0s 23us/step - loss: 486.3497 - mean_squared_error: 486.3497\n",
      "Epoch 27/100\n",
      "20000/20000 [==============================] - 0s 24us/step - loss: 439.9482 - mean_squared_error: 439.9482\n",
      "Epoch 28/100\n",
      "20000/20000 [==============================] - 0s 23us/step - loss: 435.3931 - mean_squared_error: 435.3931\n",
      "Epoch 29/100\n",
      "20000/20000 [==============================] - 0s 23us/step - loss: 422.6380 - mean_squared_error: 422.6380\n",
      "Epoch 30/100\n",
      "20000/20000 [==============================] - 0s 23us/step - loss: 425.4829 - mean_squared_error: 425.4829\n",
      "Epoch 31/100\n",
      "20000/20000 [==============================] - 0s 23us/step - loss: 490.2909 - mean_squared_error: 490.2909\n",
      "Epoch 32/100\n",
      "20000/20000 [==============================] - 0s 24us/step - loss: 456.1520 - mean_squared_error: 456.1520\n",
      "Epoch 33/100\n",
      "20000/20000 [==============================] - 0s 24us/step - loss: 421.1449 - mean_squared_error: 421.1449\n",
      "Epoch 34/100\n",
      "20000/20000 [==============================] - 0s 23us/step - loss: 406.6713 - mean_squared_error: 406.6713\n",
      "Epoch 35/100\n",
      "20000/20000 [==============================] - 0s 23us/step - loss: 465.0556 - mean_squared_error: 465.0556\n",
      "Epoch 36/100\n",
      "20000/20000 [==============================] - 0s 23us/step - loss: 429.3809 - mean_squared_error: 429.3809\n",
      "Epoch 37/100\n",
      "20000/20000 [==============================] - 0s 24us/step - loss: 391.0237 - mean_squared_error: 391.0237\n",
      "Epoch 38/100\n",
      "20000/20000 [==============================] - 0s 23us/step - loss: 375.1559 - mean_squared_error: 375.1559\n",
      "Epoch 39/100\n",
      "20000/20000 [==============================] - 0s 23us/step - loss: 393.3747 - mean_squared_error: 393.3747\n",
      "Epoch 40/100\n",
      "20000/20000 [==============================] - 0s 23us/step - loss: 372.1626 - mean_squared_error: 372.1626\n",
      "Epoch 41/100\n",
      "20000/20000 [==============================] - 0s 23us/step - loss: 393.7838 - mean_squared_error: 393.7838\n",
      "Epoch 42/100\n",
      "20000/20000 [==============================] - 0s 24us/step - loss: 406.7518 - mean_squared_error: 406.7518\n",
      "Epoch 43/100\n",
      "20000/20000 [==============================] - 0s 24us/step - loss: 360.4039 - mean_squared_error: 360.4039\n",
      "Epoch 44/100\n",
      "20000/20000 [==============================] - 0s 23us/step - loss: 481.3088 - mean_squared_error: 481.3088\n",
      "Epoch 45/100\n",
      "20000/20000 [==============================] - 0s 23us/step - loss: 459.7420 - mean_squared_error: 459.7420\n",
      "Epoch 46/100\n",
      "20000/20000 [==============================] - 0s 23us/step - loss: 424.3967 - mean_squared_error: 424.3967\n",
      "Epoch 47/100\n",
      "20000/20000 [==============================] - 0s 24us/step - loss: 406.9315 - mean_squared_error: 406.9315\n",
      "Epoch 48/100\n",
      "20000/20000 [==============================] - 0s 23us/step - loss: 409.4164 - mean_squared_error: 409.4164\n",
      "Epoch 49/100\n",
      "20000/20000 [==============================] - 0s 23us/step - loss: 404.6377 - mean_squared_error: 404.6377\n",
      "Epoch 50/100\n",
      "20000/20000 [==============================] - 0s 23us/step - loss: 377.2362 - mean_squared_error: 377.2362\n",
      "Epoch 51/100\n",
      "20000/20000 [==============================] - 0s 23us/step - loss: 373.7371 - mean_squared_error: 373.7371\n",
      "Epoch 52/100\n",
      "20000/20000 [==============================] - 0s 23us/step - loss: 372.7191 - mean_squared_error: 372.7191\n",
      "Epoch 53/100\n",
      "20000/20000 [==============================] - 0s 24us/step - loss: 350.4460 - mean_squared_error: 350.4460\n",
      "Epoch 54/100\n",
      "20000/20000 [==============================] - 0s 23us/step - loss: 350.3985 - mean_squared_error: 350.3985\n",
      "Epoch 55/100\n",
      "20000/20000 [==============================] - 0s 24us/step - loss: 323.5007 - mean_squared_error: 323.5007\n",
      "Epoch 56/100\n",
      "20000/20000 [==============================] - 0s 24us/step - loss: 321.1517 - mean_squared_error: 321.1517\n",
      "Epoch 57/100\n",
      "20000/20000 [==============================] - 0s 25us/step - loss: 331.8402 - mean_squared_error: 331.8402\n",
      "Epoch 58/100\n",
      "20000/20000 [==============================] - 0s 24us/step - loss: 360.0411 - mean_squared_error: 360.0411\n",
      "Epoch 59/100\n",
      "20000/20000 [==============================] - 0s 25us/step - loss: 326.2737 - mean_squared_error: 326.2737\n",
      "Epoch 60/100\n",
      "20000/20000 [==============================] - 0s 24us/step - loss: 303.5948 - mean_squared_error: 303.5948\n",
      "Epoch 61/100\n",
      "20000/20000 [==============================] - 0s 24us/step - loss: 290.9840 - mean_squared_error: 290.9840\n",
      "Epoch 62/100\n",
      "20000/20000 [==============================] - 0s 24us/step - loss: 299.0191 - mean_squared_error: 299.0191\n",
      "Epoch 63/100\n",
      "20000/20000 [==============================] - 0s 24us/step - loss: 329.1822 - mean_squared_error: 329.1822\n",
      "Epoch 64/100\n",
      "20000/20000 [==============================] - 1s 25us/step - loss: 328.8144 - mean_squared_error: 328.8144\n",
      "Epoch 65/100\n",
      "20000/20000 [==============================] - 0s 24us/step - loss: 317.3039 - mean_squared_error: 317.3039\n",
      "Epoch 66/100\n",
      "20000/20000 [==============================] - 0s 24us/step - loss: 348.5706 - mean_squared_error: 348.5706\n",
      "Epoch 67/100\n",
      "20000/20000 [==============================] - 1s 25us/step - loss: 381.4194 - mean_squared_error: 381.4194\n",
      "Epoch 68/100\n"
     ]
    },
    {
     "name": "stdout",
     "output_type": "stream",
     "text": [
      "20000/20000 [==============================] - 0s 24us/step - loss: 329.4639 - mean_squared_error: 329.4639\n",
      "Epoch 69/100\n",
      "20000/20000 [==============================] - 0s 24us/step - loss: 344.1618 - mean_squared_error: 344.1618\n",
      "Epoch 70/100\n",
      "20000/20000 [==============================] - 0s 24us/step - loss: 341.2300 - mean_squared_error: 341.2300\n",
      "Epoch 71/100\n",
      "20000/20000 [==============================] - 0s 24us/step - loss: 359.0397 - mean_squared_error: 359.0397\n",
      "Epoch 72/100\n",
      "20000/20000 [==============================] - 0s 24us/step - loss: 335.3946 - mean_squared_error: 335.3946\n",
      "Epoch 73/100\n",
      "20000/20000 [==============================] - 0s 24us/step - loss: 362.1892 - mean_squared_error: 362.1892\n",
      "Epoch 74/100\n",
      "20000/20000 [==============================] - 0s 24us/step - loss: 335.0117 - mean_squared_error: 335.0117\n",
      "Epoch 75/100\n",
      "20000/20000 [==============================] - 0s 24us/step - loss: 327.3455 - mean_squared_error: 327.3455\n",
      "Epoch 76/100\n",
      "20000/20000 [==============================] - 0s 25us/step - loss: 309.3544 - mean_squared_error: 309.3544\n",
      "Epoch 77/100\n",
      "20000/20000 [==============================] - 0s 24us/step - loss: 327.4254 - mean_squared_error: 327.4254\n",
      "Epoch 78/100\n",
      "20000/20000 [==============================] - 0s 24us/step - loss: 307.8864 - mean_squared_error: 307.8864\n",
      "Epoch 79/100\n",
      "20000/20000 [==============================] - 0s 24us/step - loss: 297.7324 - mean_squared_error: 297.7324\n",
      "Epoch 80/100\n",
      "20000/20000 [==============================] - 0s 24us/step - loss: 314.1168 - mean_squared_error: 314.1168\n",
      "Epoch 81/100\n",
      "20000/20000 [==============================] - 0s 24us/step - loss: 322.5888 - mean_squared_error: 322.5888\n",
      "Epoch 82/100\n",
      "20000/20000 [==============================] - 0s 24us/step - loss: 282.8831 - mean_squared_error: 282.8831\n",
      "Epoch 83/100\n",
      "20000/20000 [==============================] - 1s 26us/step - loss: 302.6969 - mean_squared_error: 302.6969\n",
      "Epoch 84/100\n",
      "20000/20000 [==============================] - 0s 24us/step - loss: 269.7096 - mean_squared_error: 269.7096\n",
      "Epoch 85/100\n",
      "20000/20000 [==============================] - 0s 24us/step - loss: 340.6709 - mean_squared_error: 340.6709\n",
      "Epoch 86/100\n",
      "20000/20000 [==============================] - 0s 25us/step - loss: 307.3989 - mean_squared_error: 307.3989\n",
      "Epoch 87/100\n",
      "20000/20000 [==============================] - 0s 24us/step - loss: 316.2302 - mean_squared_error: 316.2302\n",
      "Epoch 88/100\n",
      "20000/20000 [==============================] - 0s 24us/step - loss: 297.1745 - mean_squared_error: 297.1745\n",
      "Epoch 89/100\n",
      "20000/20000 [==============================] - 0s 24us/step - loss: 306.1329 - mean_squared_error: 306.1329\n",
      "Epoch 90/100\n",
      "20000/20000 [==============================] - 0s 24us/step - loss: 290.9112 - mean_squared_error: 290.9112\n",
      "Epoch 91/100\n",
      "20000/20000 [==============================] - 0s 24us/step - loss: 288.8938 - mean_squared_error: 288.8938\n",
      "Epoch 92/100\n",
      "20000/20000 [==============================] - 0s 24us/step - loss: 301.5509 - mean_squared_error: 301.5509\n",
      "Epoch 93/100\n",
      "20000/20000 [==============================] - 0s 24us/step - loss: 274.8603 - mean_squared_error: 274.8603\n",
      "Epoch 94/100\n",
      "20000/20000 [==============================] - 0s 25us/step - loss: 261.1464 - mean_squared_error: 261.1464\n",
      "Epoch 95/100\n",
      "20000/20000 [==============================] - 0s 24us/step - loss: 300.7488 - mean_squared_error: 300.7488\n",
      "Epoch 96/100\n",
      "20000/20000 [==============================] - 0s 25us/step - loss: 380.4269 - mean_squared_error: 380.4269\n",
      "Epoch 97/100\n",
      "20000/20000 [==============================] - 0s 25us/step - loss: 379.1211 - mean_squared_error: 379.1211\n",
      "Epoch 98/100\n",
      "20000/20000 [==============================] - 0s 25us/step - loss: 330.9379 - mean_squared_error: 330.9379\n",
      "Epoch 99/100\n",
      "20000/20000 [==============================] - 0s 25us/step - loss: 301.0520 - mean_squared_error: 301.0520\n",
      "Epoch 100/100\n",
      "20000/20000 [==============================] - 0s 25us/step - loss: 307.2638 - mean_squared_error: 307.2638\n"
     ]
    },
    {
     "data": {
      "text/plain": [
       "<keras.callbacks.History at 0x1a2fa19f60>"
      ]
     },
     "execution_count": 131,
     "metadata": {},
     "output_type": "execute_result"
    }
   ],
   "source": [
    "model.fit(X,Y,epochs=100, batch_size=32)"
   ]
  },
  {
   "cell_type": "code",
   "execution_count": 132,
   "metadata": {},
   "outputs": [],
   "source": [
    "preds = model.predict(testX)"
   ]
  },
  {
   "cell_type": "code",
   "execution_count": 134,
   "metadata": {},
   "outputs": [
    {
     "data": {
      "text/plain": [
       "array([[151.57826 ],\n",
       "       [ 65.21415 ],\n",
       "       [ 28.403301],\n",
       "       ...,\n",
       "       [ 98.86843 ],\n",
       "       [213.56342 ],\n",
       "       [ 61.691353]], dtype=float32)"
      ]
     },
     "execution_count": 134,
     "metadata": {},
     "output_type": "execute_result"
    }
   ],
   "source": [
    "preds"
   ]
  },
  {
   "cell_type": "code",
   "execution_count": 135,
   "metadata": {},
   "outputs": [
    {
     "data": {
      "text/plain": [
       "array([159.0415273 ,  60.93283996,  29.3640982 , ...,  76.69543475,\n",
       "       201.30210005,  29.67204858])"
      ]
     },
     "execution_count": 135,
     "metadata": {},
     "output_type": "execute_result"
    }
   ],
   "source": [
    "testY"
   ]
  },
  {
   "cell_type": "code",
   "execution_count": 136,
   "metadata": {},
   "outputs": [
    {
     "name": "stdout",
     "output_type": "stream",
     "text": [
      "5000/5000 [==============================] - 0s 47us/step\n"
     ]
    },
    {
     "data": {
      "text/plain": [
       "[308.02887568359375, 308.02887568359375]"
      ]
     },
     "execution_count": 136,
     "metadata": {},
     "output_type": "execute_result"
    }
   ],
   "source": [
    "model.evaluate(testX,testY)"
   ]
  }
 ],
 "metadata": {
  "kernelspec": {
   "display_name": "Python 3",
   "language": "python",
   "name": "python3"
  },
  "language_info": {
   "codemirror_mode": {
    "name": "ipython",
    "version": 3
   },
   "file_extension": ".py",
   "mimetype": "text/x-python",
   "name": "python",
   "nbconvert_exporter": "python",
   "pygments_lexer": "ipython3",
   "version": "3.6.5"
  }
 },
 "nbformat": 4,
 "nbformat_minor": 2
}
